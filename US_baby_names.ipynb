{
 "cells": [
  {
   "cell_type": "markdown",
   "metadata": {},
   "source": [
    "# US - Baby Names"
   ]
  },
  {
   "cell_type": "markdown",
   "metadata": {},
   "source": [
    "### Introduction:\n",
    "\n",
    "We are going to use a subset of [US Baby Names](https://www.kaggle.com/kaggle/us-baby-names) from Kaggle.  \n",
    "In the file it will be names from 2004 until 2014\n",
    "\n",
    "\n",
    "### Step 1. Import the necessary libraries"
   ]
  },
  {
   "cell_type": "code",
   "execution_count": 2,
   "metadata": {
    "collapsed": false
   },
   "outputs": [],
   "source": [
    "import pandas as pd"
   ]
  },
  {
   "cell_type": "markdown",
   "metadata": {},
   "source": [
    "### Step 2. Import the dataset from this [address](https://raw.githubusercontent.com/guipsamora/pandas_exercises/master/06_Stats/US_Baby_Names/US_Baby_Names_right.csv). "
   ]
  },
  {
   "cell_type": "markdown",
   "metadata": {},
   "source": [
    "### Step 3. Assign it to a variable called baby_names."
   ]
  },
  {
   "cell_type": "code",
   "execution_count": 3,
   "metadata": {
    "collapsed": false
   },
   "outputs": [],
   "source": [
    "baby_names = pd.read_csv(\"https://raw.githubusercontent.com/guipsamora/pandas_exercises/master/06_Stats/US_Baby_Names/US_Baby_Names_right.csv\")"
   ]
  },
  {
   "cell_type": "markdown",
   "metadata": {},
   "source": [
    "### Step 4. See the first 10 entries"
   ]
  },
  {
   "cell_type": "code",
   "execution_count": 4,
   "metadata": {
    "collapsed": false
   },
   "outputs": [
    {
     "output_type": "execute_result",
     "data": {
      "text/plain": [
       "   Unnamed: 0     Id      Name  Year Gender State  Count\n",
       "0       11349  11350      Emma  2004      F    AK     62\n",
       "1       11350  11351   Madison  2004      F    AK     48\n",
       "2       11351  11352    Hannah  2004      F    AK     46\n",
       "3       11352  11353     Grace  2004      F    AK     44\n",
       "4       11353  11354     Emily  2004      F    AK     41\n",
       "5       11354  11355   Abigail  2004      F    AK     37\n",
       "6       11355  11356    Olivia  2004      F    AK     33\n",
       "7       11356  11357  Isabella  2004      F    AK     30\n",
       "8       11357  11358    Alyssa  2004      F    AK     29\n",
       "9       11358  11359    Sophia  2004      F    AK     28"
      ],
      "text/html": "<div>\n<style scoped>\n    .dataframe tbody tr th:only-of-type {\n        vertical-align: middle;\n    }\n\n    .dataframe tbody tr th {\n        vertical-align: top;\n    }\n\n    .dataframe thead th {\n        text-align: right;\n    }\n</style>\n<table border=\"1\" class=\"dataframe\">\n  <thead>\n    <tr style=\"text-align: right;\">\n      <th></th>\n      <th>Unnamed: 0</th>\n      <th>Id</th>\n      <th>Name</th>\n      <th>Year</th>\n      <th>Gender</th>\n      <th>State</th>\n      <th>Count</th>\n    </tr>\n  </thead>\n  <tbody>\n    <tr>\n      <th>0</th>\n      <td>11349</td>\n      <td>11350</td>\n      <td>Emma</td>\n      <td>2004</td>\n      <td>F</td>\n      <td>AK</td>\n      <td>62</td>\n    </tr>\n    <tr>\n      <th>1</th>\n      <td>11350</td>\n      <td>11351</td>\n      <td>Madison</td>\n      <td>2004</td>\n      <td>F</td>\n      <td>AK</td>\n      <td>48</td>\n    </tr>\n    <tr>\n      <th>2</th>\n      <td>11351</td>\n      <td>11352</td>\n      <td>Hannah</td>\n      <td>2004</td>\n      <td>F</td>\n      <td>AK</td>\n      <td>46</td>\n    </tr>\n    <tr>\n      <th>3</th>\n      <td>11352</td>\n      <td>11353</td>\n      <td>Grace</td>\n      <td>2004</td>\n      <td>F</td>\n      <td>AK</td>\n      <td>44</td>\n    </tr>\n    <tr>\n      <th>4</th>\n      <td>11353</td>\n      <td>11354</td>\n      <td>Emily</td>\n      <td>2004</td>\n      <td>F</td>\n      <td>AK</td>\n      <td>41</td>\n    </tr>\n    <tr>\n      <th>5</th>\n      <td>11354</td>\n      <td>11355</td>\n      <td>Abigail</td>\n      <td>2004</td>\n      <td>F</td>\n      <td>AK</td>\n      <td>37</td>\n    </tr>\n    <tr>\n      <th>6</th>\n      <td>11355</td>\n      <td>11356</td>\n      <td>Olivia</td>\n      <td>2004</td>\n      <td>F</td>\n      <td>AK</td>\n      <td>33</td>\n    </tr>\n    <tr>\n      <th>7</th>\n      <td>11356</td>\n      <td>11357</td>\n      <td>Isabella</td>\n      <td>2004</td>\n      <td>F</td>\n      <td>AK</td>\n      <td>30</td>\n    </tr>\n    <tr>\n      <th>8</th>\n      <td>11357</td>\n      <td>11358</td>\n      <td>Alyssa</td>\n      <td>2004</td>\n      <td>F</td>\n      <td>AK</td>\n      <td>29</td>\n    </tr>\n    <tr>\n      <th>9</th>\n      <td>11358</td>\n      <td>11359</td>\n      <td>Sophia</td>\n      <td>2004</td>\n      <td>F</td>\n      <td>AK</td>\n      <td>28</td>\n    </tr>\n  </tbody>\n</table>\n</div>"
     },
     "metadata": {},
     "execution_count": 4
    }
   ],
   "source": [
    "baby_names.head(10)"
   ]
  },
  {
   "cell_type": "markdown",
   "metadata": {},
   "source": [
    "### Step 5. Delete the column 'Unnamed: 0' and 'Id'"
   ]
  },
  {
   "cell_type": "code",
   "execution_count": 5,
   "metadata": {
    "collapsed": false
   },
   "outputs": [
    {
     "output_type": "execute_result",
     "data": {
      "text/plain": [
       "            Name  Year Gender State  Count\n",
       "0           Emma  2004      F    AK     62\n",
       "1        Madison  2004      F    AK     48\n",
       "2         Hannah  2004      F    AK     46\n",
       "3          Grace  2004      F    AK     44\n",
       "4          Emily  2004      F    AK     41\n",
       "...          ...   ...    ...   ...    ...\n",
       "1016390     Seth  2014      M    WY      5\n",
       "1016391  Spencer  2014      M    WY      5\n",
       "1016392     Tyce  2014      M    WY      5\n",
       "1016393   Victor  2014      M    WY      5\n",
       "1016394   Waylon  2014      M    WY      5\n",
       "\n",
       "[1016395 rows x 5 columns]"
      ],
      "text/html": "<div>\n<style scoped>\n    .dataframe tbody tr th:only-of-type {\n        vertical-align: middle;\n    }\n\n    .dataframe tbody tr th {\n        vertical-align: top;\n    }\n\n    .dataframe thead th {\n        text-align: right;\n    }\n</style>\n<table border=\"1\" class=\"dataframe\">\n  <thead>\n    <tr style=\"text-align: right;\">\n      <th></th>\n      <th>Name</th>\n      <th>Year</th>\n      <th>Gender</th>\n      <th>State</th>\n      <th>Count</th>\n    </tr>\n  </thead>\n  <tbody>\n    <tr>\n      <th>0</th>\n      <td>Emma</td>\n      <td>2004</td>\n      <td>F</td>\n      <td>AK</td>\n      <td>62</td>\n    </tr>\n    <tr>\n      <th>1</th>\n      <td>Madison</td>\n      <td>2004</td>\n      <td>F</td>\n      <td>AK</td>\n      <td>48</td>\n    </tr>\n    <tr>\n      <th>2</th>\n      <td>Hannah</td>\n      <td>2004</td>\n      <td>F</td>\n      <td>AK</td>\n      <td>46</td>\n    </tr>\n    <tr>\n      <th>3</th>\n      <td>Grace</td>\n      <td>2004</td>\n      <td>F</td>\n      <td>AK</td>\n      <td>44</td>\n    </tr>\n    <tr>\n      <th>4</th>\n      <td>Emily</td>\n      <td>2004</td>\n      <td>F</td>\n      <td>AK</td>\n      <td>41</td>\n    </tr>\n    <tr>\n      <th>...</th>\n      <td>...</td>\n      <td>...</td>\n      <td>...</td>\n      <td>...</td>\n      <td>...</td>\n    </tr>\n    <tr>\n      <th>1016390</th>\n      <td>Seth</td>\n      <td>2014</td>\n      <td>M</td>\n      <td>WY</td>\n      <td>5</td>\n    </tr>\n    <tr>\n      <th>1016391</th>\n      <td>Spencer</td>\n      <td>2014</td>\n      <td>M</td>\n      <td>WY</td>\n      <td>5</td>\n    </tr>\n    <tr>\n      <th>1016392</th>\n      <td>Tyce</td>\n      <td>2014</td>\n      <td>M</td>\n      <td>WY</td>\n      <td>5</td>\n    </tr>\n    <tr>\n      <th>1016393</th>\n      <td>Victor</td>\n      <td>2014</td>\n      <td>M</td>\n      <td>WY</td>\n      <td>5</td>\n    </tr>\n    <tr>\n      <th>1016394</th>\n      <td>Waylon</td>\n      <td>2014</td>\n      <td>M</td>\n      <td>WY</td>\n      <td>5</td>\n    </tr>\n  </tbody>\n</table>\n<p>1016395 rows × 5 columns</p>\n</div>"
     },
     "metadata": {},
     "execution_count": 5
    }
   ],
   "source": [
    "baby_names = baby_names.loc[:, \"Name\":\"Count\"]\n",
    "baby_names"
   ]
  },
  {
   "cell_type": "markdown",
   "metadata": {},
   "source": [
    "### Step 6. Is there more male or female names in the dataset?"
   ]
  },
  {
   "cell_type": "code",
   "execution_count": 7,
   "metadata": {
    "collapsed": false
   },
   "outputs": [
    {
     "output_type": "execute_result",
     "data": {
      "text/plain": [
       "F    558846\n",
       "M    457549\n",
       "Name: Gender, dtype: int64"
      ]
     },
     "metadata": {},
     "execution_count": 7
    }
   ],
   "source": [
    "baby_names[\"Gender\"].value_counts()"
   ]
  },
  {
   "cell_type": "markdown",
   "metadata": {},
   "source": [
    "### Step 7. Group the dataset by name and assign to names"
   ]
  },
  {
   "cell_type": "code",
   "execution_count": 10,
   "metadata": {
    "collapsed": false
   },
   "outputs": [
    {
     "output_type": "execute_result",
     "data": {
      "text/plain": [
       "             Count\n",
       "Name              \n",
       "Jacob       242874\n",
       "Emma        214852\n",
       "Michael     214405\n",
       "Ethan       209277\n",
       "Isabella    204798\n",
       "...            ...\n",
       "Eniola           5\n",
       "Atlantis         5\n",
       "Marci            5\n",
       "Simarpreet       5\n",
       "Nita             5\n",
       "\n",
       "[17632 rows x 1 columns]"
      ],
      "text/html": "<div>\n<style scoped>\n    .dataframe tbody tr th:only-of-type {\n        vertical-align: middle;\n    }\n\n    .dataframe tbody tr th {\n        vertical-align: top;\n    }\n\n    .dataframe thead th {\n        text-align: right;\n    }\n</style>\n<table border=\"1\" class=\"dataframe\">\n  <thead>\n    <tr style=\"text-align: right;\">\n      <th></th>\n      <th>Count</th>\n    </tr>\n    <tr>\n      <th>Name</th>\n      <th></th>\n    </tr>\n  </thead>\n  <tbody>\n    <tr>\n      <th>Jacob</th>\n      <td>242874</td>\n    </tr>\n    <tr>\n      <th>Emma</th>\n      <td>214852</td>\n    </tr>\n    <tr>\n      <th>Michael</th>\n      <td>214405</td>\n    </tr>\n    <tr>\n      <th>Ethan</th>\n      <td>209277</td>\n    </tr>\n    <tr>\n      <th>Isabella</th>\n      <td>204798</td>\n    </tr>\n    <tr>\n      <th>...</th>\n      <td>...</td>\n    </tr>\n    <tr>\n      <th>Eniola</th>\n      <td>5</td>\n    </tr>\n    <tr>\n      <th>Atlantis</th>\n      <td>5</td>\n    </tr>\n    <tr>\n      <th>Marci</th>\n      <td>5</td>\n    </tr>\n    <tr>\n      <th>Simarpreet</th>\n      <td>5</td>\n    </tr>\n    <tr>\n      <th>Nita</th>\n      <td>5</td>\n    </tr>\n  </tbody>\n</table>\n<p>17632 rows × 1 columns</p>\n</div>"
     },
     "metadata": {},
     "execution_count": 10
    }
   ],
   "source": [
    "names = baby_names.groupby(\"Name\").sum()\n",
    "del names[\"Year\"]\n",
    "names.sort_values(\"Count\", ascending = 0)"
   ]
  },
  {
   "cell_type": "markdown",
   "metadata": {},
   "source": [
    "### Step 8. How many different names exist in the dataset?"
   ]
  },
  {
   "cell_type": "code",
   "execution_count": 15,
   "metadata": {
    "collapsed": false
   },
   "outputs": [
    {
     "output_type": "execute_result",
     "data": {
      "text/plain": [
       "17632"
      ]
     },
     "metadata": {},
     "execution_count": 15
    }
   ],
   "source": [
    "len(names)"
   ]
  },
  {
   "cell_type": "markdown",
   "metadata": {},
   "source": [
    "### Step 9. What is the name with most occurrences?"
   ]
  },
  {
   "cell_type": "code",
   "execution_count": 17,
   "metadata": {
    "collapsed": false
   },
   "outputs": [
    {
     "output_type": "execute_result",
     "data": {
      "text/plain": [
       "'Jacob'"
      ]
     },
     "metadata": {},
     "execution_count": 17
    }
   ],
   "source": [
    "names.Count.idxmax()"
   ]
  },
  {
   "cell_type": "markdown",
   "metadata": {},
   "source": [
    "### Step 10. How many different names have the least occurrences?"
   ]
  },
  {
   "cell_type": "code",
   "execution_count": 19,
   "metadata": {
    "collapsed": false
   },
   "outputs": [
    {
     "output_type": "execute_result",
     "data": {
      "text/plain": [
       "2578"
      ]
     },
     "metadata": {},
     "execution_count": 19
    }
   ],
   "source": [
    "len(names[names.Count == names.Count.min()])"
   ]
  },
  {
   "cell_type": "markdown",
   "metadata": {},
   "source": [
    "### Step 11. What is the median name occurrence?"
   ]
  },
  {
   "cell_type": "code",
   "execution_count": 20,
   "metadata": {
    "collapsed": false
   },
   "outputs": [
    {
     "output_type": "execute_result",
     "data": {
      "text/plain": [
       "         Count\n",
       "Name          \n",
       "Aishani     49\n",
       "Alara       49\n",
       "Alysse      49\n",
       "Ameir       49\n",
       "Anely       49\n",
       "...        ...\n",
       "Sriram      49\n",
       "Trinton     49\n",
       "Vita        49\n",
       "Yoni        49\n",
       "Zuleima     49\n",
       "\n",
       "[66 rows x 1 columns]"
      ],
      "text/html": "<div>\n<style scoped>\n    .dataframe tbody tr th:only-of-type {\n        vertical-align: middle;\n    }\n\n    .dataframe tbody tr th {\n        vertical-align: top;\n    }\n\n    .dataframe thead th {\n        text-align: right;\n    }\n</style>\n<table border=\"1\" class=\"dataframe\">\n  <thead>\n    <tr style=\"text-align: right;\">\n      <th></th>\n      <th>Count</th>\n    </tr>\n    <tr>\n      <th>Name</th>\n      <th></th>\n    </tr>\n  </thead>\n  <tbody>\n    <tr>\n      <th>Aishani</th>\n      <td>49</td>\n    </tr>\n    <tr>\n      <th>Alara</th>\n      <td>49</td>\n    </tr>\n    <tr>\n      <th>Alysse</th>\n      <td>49</td>\n    </tr>\n    <tr>\n      <th>Ameir</th>\n      <td>49</td>\n    </tr>\n    <tr>\n      <th>Anely</th>\n      <td>49</td>\n    </tr>\n    <tr>\n      <th>...</th>\n      <td>...</td>\n    </tr>\n    <tr>\n      <th>Sriram</th>\n      <td>49</td>\n    </tr>\n    <tr>\n      <th>Trinton</th>\n      <td>49</td>\n    </tr>\n    <tr>\n      <th>Vita</th>\n      <td>49</td>\n    </tr>\n    <tr>\n      <th>Yoni</th>\n      <td>49</td>\n    </tr>\n    <tr>\n      <th>Zuleima</th>\n      <td>49</td>\n    </tr>\n  </tbody>\n</table>\n<p>66 rows × 1 columns</p>\n</div>"
     },
     "metadata": {},
     "execution_count": 20
    }
   ],
   "source": [
    "names[names.Count == names.Count.median()]"
   ]
  },
  {
   "cell_type": "markdown",
   "metadata": {},
   "source": [
    "### Step 12. What is the standard deviation of names?"
   ]
  },
  {
   "cell_type": "code",
   "execution_count": 21,
   "metadata": {
    "collapsed": false
   },
   "outputs": [
    {
     "output_type": "execute_result",
     "data": {
      "text/plain": [
       "11006.06946789057"
      ]
     },
     "metadata": {},
     "execution_count": 21
    }
   ],
   "source": [
    "names.Count.std()"
   ]
  },
  {
   "cell_type": "markdown",
   "metadata": {},
   "source": [
    "### Step 13. Get a summary with the mean, min, max, std and quartiles."
   ]
  },
  {
   "cell_type": "code",
   "execution_count": 22,
   "metadata": {
    "collapsed": false
   },
   "outputs": [
    {
     "output_type": "execute_result",
     "data": {
      "text/plain": [
       "               Count\n",
       "count   17632.000000\n",
       "mean     2008.932169\n",
       "std     11006.069468\n",
       "min         5.000000\n",
       "25%        11.000000\n",
       "50%        49.000000\n",
       "75%       337.000000\n",
       "max    242874.000000"
      ],
      "text/html": "<div>\n<style scoped>\n    .dataframe tbody tr th:only-of-type {\n        vertical-align: middle;\n    }\n\n    .dataframe tbody tr th {\n        vertical-align: top;\n    }\n\n    .dataframe thead th {\n        text-align: right;\n    }\n</style>\n<table border=\"1\" class=\"dataframe\">\n  <thead>\n    <tr style=\"text-align: right;\">\n      <th></th>\n      <th>Count</th>\n    </tr>\n  </thead>\n  <tbody>\n    <tr>\n      <th>count</th>\n      <td>17632.000000</td>\n    </tr>\n    <tr>\n      <th>mean</th>\n      <td>2008.932169</td>\n    </tr>\n    <tr>\n      <th>std</th>\n      <td>11006.069468</td>\n    </tr>\n    <tr>\n      <th>min</th>\n      <td>5.000000</td>\n    </tr>\n    <tr>\n      <th>25%</th>\n      <td>11.000000</td>\n    </tr>\n    <tr>\n      <th>50%</th>\n      <td>49.000000</td>\n    </tr>\n    <tr>\n      <th>75%</th>\n      <td>337.000000</td>\n    </tr>\n    <tr>\n      <th>max</th>\n      <td>242874.000000</td>\n    </tr>\n  </tbody>\n</table>\n</div>"
     },
     "metadata": {},
     "execution_count": 22
    }
   ],
   "source": [
    "names.describe()"
   ]
  }
 ],
 "metadata": {
  "anaconda-cloud": {},
  "kernelspec": {
   "name": "python382jvsc74a57bd031f2aee4e71d21fbe5cf8b01ff0e069b9275f58929596ceb00d14d90e3e16cd6",
   "display_name": "Python 3.8.2 64-bit"
  },
  "language_info": {
   "codemirror_mode": {
    "name": "ipython",
    "version": 2
   },
   "file_extension": ".py",
   "mimetype": "text/x-python",
   "name": "python",
   "nbconvert_exporter": "python",
   "pygments_lexer": "ipython2",
   "version": "3.8.2-final"
  },
  "metadata": {
   "interpreter": {
    "hash": "31f2aee4e71d21fbe5cf8b01ff0e069b9275f58929596ceb00d14d90e3e16cd6"
   }
  }
 },
 "nbformat": 4,
 "nbformat_minor": 0
}